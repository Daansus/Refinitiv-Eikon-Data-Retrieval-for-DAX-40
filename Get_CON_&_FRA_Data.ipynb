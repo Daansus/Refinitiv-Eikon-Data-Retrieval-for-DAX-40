{
 "cells": [
  {
   "cell_type": "markdown",
   "metadata": {},
   "source": [
    "# REFINITIV EIKON - CONSTITUENTS AND FRAGMENTATION "
   ]
  },
  {
   "cell_type": "code",
   "execution_count": null,
   "metadata": {},
   "outputs": [],
   "source": [
    "import eikon as ek\n",
    "import pandas as pd\n",
    "from pathlib import Path\n",
    "from datetime import datetime, timedelta\n",
    "from dateutil.relativedelta import relativedelta"
   ]
  },
  {
   "cell_type": "markdown",
   "metadata": {},
   "source": [
    "# SET VARIABLES"
   ]
  },
  {
   "cell_type": "code",
   "execution_count": null,
   "metadata": {},
   "outputs": [],
   "source": [
    "# GERMAN MARKET SPECIFIC\n",
    "index = \"0#.GDAXI\"\n",
    "home_id = \"d.\""
   ]
  },
  {
   "cell_type": "code",
   "execution_count": null,
   "metadata": {},
   "outputs": [],
   "source": [
    "# WHICH MTFs\n",
    "biggest_mtfs = [\".DE\", \".DXE\", \".TQE\", \".AQE\"]"
   ]
  },
  {
   "cell_type": "markdown",
   "metadata": {},
   "source": [
    "# SET APP KEY"
   ]
  },
  {
   "cell_type": "code",
   "execution_count": null,
   "metadata": {},
   "outputs": [],
   "source": [
    "app_key = \"XXXXXXXXXXXXXXXXXXXXXXXXXXXXXXXXXXXXXXXX\""
   ]
  },
  {
   "cell_type": "code",
   "execution_count": null,
   "metadata": {},
   "outputs": [],
   "source": [
    "ek.set_app_key(app_key)"
   ]
  },
  {
   "cell_type": "code",
   "execution_count": null,
   "metadata": {},
   "outputs": [],
   "source": [
    "ek.set_timeout(1e6)"
   ]
  },
  {
   "cell_type": "markdown",
   "metadata": {},
   "source": [
    "# MAKE AND SET PATH TO SAVE"
   ]
  },
  {
   "cell_type": "code",
   "execution_count": null,
   "metadata": {},
   "outputs": [],
   "source": [
    "# folder_name = Path(f\"CON_&_FRA\")\n",
    "# folder_name.mkdir(parents=True, exist_ok=True) "
   ]
  },
  {
   "cell_type": "code",
   "execution_count": null,
   "metadata": {},
   "outputs": [],
   "source": [
    "# path_to_save = f\"./CON_&_FRA/\""
   ]
  },
  {
   "cell_type": "markdown",
   "metadata": {},
   "source": [
    "# GET CONSTITUENTS"
   ]
  },
  {
   "cell_type": "code",
   "execution_count": null,
   "metadata": {},
   "outputs": [],
   "source": [
    "index_constituents, _ = ek.get_data(index, fields = [\"TR.CompanyName\"])\n",
    "index_constituents.to_csv(path_to_save + \"index_constituents\" + \".csv\")\n",
    "index_constituents"
   ]
  },
  {
   "cell_type": "code",
   "execution_count": null,
   "metadata": {},
   "outputs": [],
   "source": [
    "index_constituents.to_pickle(\"index_constituents\")"
   ]
  },
  {
   "cell_type": "code",
   "execution_count": null,
   "metadata": {},
   "outputs": [],
   "source": [
    "index_constituents = pd.read_pickle(\"index_constituents\")\n",
    "index_constituents"
   ]
  },
  {
   "cell_type": "markdown",
   "metadata": {},
   "source": [
    "# GET FRAGMENTATION"
   ]
  },
  {
   "cell_type": "code",
   "execution_count": null,
   "metadata": {},
   "outputs": [],
   "source": [
    "fragmentation = pd.DataFrame()\n",
    "\n",
    "for ric in index_constituents[\"Instrument\"]:\n",
    "    main_ric_base = ric.split(\".\")[0]\n",
    "\n",
    "    isin = ek.get_symbology(symbol = ric, to_symbol_type = \"ISIN\")\n",
    "    isin = isin.loc[:,\"ISIN\"][0]\n",
    "\n",
    "    fragmentation_i = ek.get_symbology(symbol = isin, from_symbol_type = \"ISIN\", to_symbol_type = \"RIC\", best_match = False)\n",
    "\n",
    "    all_rics = fragmentation_i[\"RICs\"][0]\n",
    "    \n",
    "    cleaned_rics = [item for item in all_rics if (item.split(\".\")[0] == main_ric_base and (\"^\" not in item) and (\"xbo\" not in item) and (\"xt\" not in item)) or (home_id in item and (\"^\" not in item))]\n",
    "    cleaned_rics = [item for item in cleaned_rics if any(item.endswith(mtf) for mtf in biggest_mtfs)]\n",
    "\n",
    "    fragmentation_i = pd.DataFrame({\"ric\": ric, \"fragmentation\": cleaned_rics})\n",
    "    fragmentation = pd.concat([fragmentation, fragmentation_i], ignore_index=True)"
   ]
  },
  {
   "cell_type": "code",
   "execution_count": null,
   "metadata": {},
   "outputs": [],
   "source": [
    "fragmentation[\"venue\"] = fragmentation[\"fragmentation\"].apply(lambda x: x.split(\".\")[1])"
   ]
  },
  {
   "cell_type": "code",
   "execution_count": null,
   "metadata": {},
   "outputs": [],
   "source": [
    "fragmentation[\"ric\"].value_counts()"
   ]
  },
  {
   "cell_type": "code",
   "execution_count": null,
   "metadata": {},
   "outputs": [],
   "source": [
    "fragmentation[\"venue\"].value_counts()"
   ]
  },
  {
   "cell_type": "code",
   "execution_count": null,
   "metadata": {},
   "outputs": [],
   "source": [
    "# fragmentation_cross = pd.crosstab(fragmentation[\"ric\"], fragmentation[\"venue\"])\n",
    "# fragmentation_cross.to_csv(path_to_save + \"fragmentation\" + \".csv\")\n",
    "# pd.crosstab(fragmentation[\"ric\"], fragmentation[\"venue\"])"
   ]
  },
  {
   "cell_type": "code",
   "execution_count": null,
   "metadata": {},
   "outputs": [],
   "source": [
    "fragmentation.to_pickle(\"fragmentation\")"
   ]
  },
  {
   "cell_type": "code",
   "execution_count": null,
   "metadata": {},
   "outputs": [],
   "source": [
    "fragmentation = pd.read_pickle(\"fragmentation\")\n",
    "fragmentation"
   ]
  }
 ],
 "metadata": {
  "kernelspec": {
   "display_name": "Python 3 (ipykernel)",
   "language": "python",
   "name": "python3"
  },
  "language_info": {
   "codemirror_mode": {
    "name": "ipython",
    "version": 3
   },
   "file_extension": ".py",
   "mimetype": "text/x-python",
   "name": "python",
   "nbconvert_exporter": "python",
   "pygments_lexer": "ipython3",
   "version": "3.11.7"
  },
  "widgets": {
   "application/vnd.jupyter.widget-state+json": {
    "state": {},
    "version_major": 2,
    "version_minor": 0
   }
  }
 },
 "nbformat": 4,
 "nbformat_minor": 4
}
