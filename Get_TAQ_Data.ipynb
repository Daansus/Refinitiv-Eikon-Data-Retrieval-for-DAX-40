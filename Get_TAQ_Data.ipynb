{
 "cells": [
  {
   "cell_type": "markdown",
   "metadata": {},
   "source": [
    "# REFINITIV EIKON - TRADE AND QUOTES "
   ]
  },
  {
   "cell_type": "code",
   "execution_count": null,
   "metadata": {},
   "outputs": [],
   "source": [
    "import time\n",
    "import eikon as ek\n",
    "import pandas as pd\n",
    "from pathlib import Path\n",
    "from datetime import datetime, timedelta\n",
    "from dateutil.relativedelta import relativedelta\n",
    "import refinitiv.data as rd\n",
    "rd.open_session()"
   ]
  },
  {
   "cell_type": "markdown",
   "metadata": {},
   "source": [
    "# SET VARIABLES"
   ]
  },
  {
   "cell_type": "code",
   "execution_count": null,
   "metadata": {},
   "outputs": [],
   "source": [
    "# GERMAN MARKET SPECIFIC\n",
    "index = \"0#.GDAXI\"\n",
    "home_id = \"d.\""
   ]
  },
  {
   "cell_type": "code",
   "execution_count": null,
   "metadata": {},
   "outputs": [],
   "source": [
    "# SET MONTH\n",
    "month = \"X\"\n",
    "year = \"20XX\"\n",
    "month_year = month + \" \" + year"
   ]
  },
  {
   "cell_type": "code",
   "execution_count": null,
   "metadata": {},
   "outputs": [],
   "source": [
    "# WHICH MTFs\n",
    "biggest_mtfs = [\".DE\", \".DXE\", \".TQE\", \".AQE\"]"
   ]
  },
  {
   "cell_type": "markdown",
   "metadata": {},
   "source": [
    "# SET APP KEY"
   ]
  },
  {
   "cell_type": "code",
   "execution_count": null,
   "metadata": {},
   "outputs": [],
   "source": [
    "app_key = \"XXXXXXXXXXXXXXXXXXXXXXXXXXXXXXXXXXXXXXXX\""
   ]
  },
  {
   "cell_type": "code",
   "execution_count": null,
   "metadata": {},
   "outputs": [],
   "source": [
    "ek.set_app_key(app_key)"
   ]
  },
  {
   "cell_type": "code",
   "execution_count": null,
   "metadata": {},
   "outputs": [],
   "source": [
    "ek.set_timeout(1e6)"
   ]
  },
  {
   "cell_type": "markdown",
   "metadata": {},
   "source": [
    "# MAKE AND SET PATH TO SAVE"
   ]
  },
  {
   "cell_type": "code",
   "execution_count": null,
   "metadata": {},
   "outputs": [],
   "source": [
    "folder_name = Path(f\"TAQ_{year}_{month}\")\n",
    "folder_name.mkdir(parents=True, exist_ok=True)\n",
    "path_to_save = f\"./TAQ_{year}_{month}/\""
   ]
  },
  {
   "cell_type": "markdown",
   "metadata": {},
   "source": [
    "# GET CONSTITUENTS"
   ]
  },
  {
   "cell_type": "code",
   "execution_count": null,
   "metadata": {},
   "outputs": [],
   "source": [
    "index_constituents = pd.read_pickle(\"index_constituents\")"
   ]
  },
  {
   "cell_type": "markdown",
   "metadata": {},
   "source": [
    "# GET FRAGMENTATION"
   ]
  },
  {
   "cell_type": "code",
   "execution_count": null,
   "metadata": {},
   "outputs": [],
   "source": [
    "fragmentation = pd.read_pickle(\"fragmentation\")"
   ]
  },
  {
   "cell_type": "code",
   "execution_count": null,
   "metadata": {},
   "outputs": [],
   "source": [
    "constituents = fragmentation[\"ric\"].unique()\n",
    "i = 0\n",
    "for con in constituents:\n",
    "    print(f\" [{i}] {con}\")\n",
    "    i += 1"
   ]
  },
  {
   "cell_type": "markdown",
   "metadata": {},
   "source": [
    "# GET TAQ DATA"
   ]
  },
  {
   "cell_type": "code",
   "execution_count": null,
   "metadata": {},
   "outputs": [],
   "source": [
    "start_date_dt = datetime.strptime(month_year, '%m %Y')\n",
    "start_date = start_date_dt.strftime('%Y-%m-%d')\n",
    "end_date_dt = start_date_dt + relativedelta(days = 30)\n",
    "end_date = end_date_dt.strftime('%Y-%m-%d')"
   ]
  },
  {
   "cell_type": "code",
   "execution_count": null,
   "metadata": {},
   "outputs": [],
   "source": [
    "tic = time.time()\n",
    "counter = 0\n",
    "df_month = pd.DataFrame()\n",
    "\n",
    "for con in constituents:\n",
    "    counter += 1\n",
    "    print(f\"Start {counter}: {con}\")\n",
    "    df_con = pd.DataFrame()\n",
    "    fragmentation_con = list(fragmentation.loc[fragmentation[\"ric\"] == con, \"fragmentation\"])\n",
    "    \n",
    "    for ric in fragmentation_con:\n",
    "        df_ric = rd.get_history(ric, start = start_date, end = end_date, interval = '1min')\n",
    "        df_ric[\"RIC\"] = ric\n",
    "        df_con = pd.concat([df_con, df_ric], ignore_index = False)\n",
    "        print(f\"     Done {ric}\")\n",
    "    \n",
    "    df_month = pd.concat([df_month, df_con], ignore_index = False)\n",
    "    # Set hashtag before code below if you do not want 1 file per constituent\n",
    "    df_con.to_csv(path_to_save + \"TAQ_\" + con + \"_\" + year + \"_\" + month +  \".csv\")  \n",
    "    \n",
    "    toc = time.time() \n",
    "    print(f\"Done {con} in {round(toc-tic,0)} seconds\")\n",
    "\n",
    "# Set hashtag before code below if you do not want 1 file with all data in it\n",
    "df_month.to_csv(path_to_save + \"TAQ_\" + year + \"_\" + month +  \".csv\")"
   ]
  }
 ],
 "metadata": {
  "kernelspec": {
   "display_name": "Python 3 (ipykernel)",
   "language": "python",
   "name": "python3"
  },
  "language_info": {
   "codemirror_mode": {
    "name": "ipython",
    "version": 3
   },
   "file_extension": ".py",
   "mimetype": "text/x-python",
   "name": "python",
   "nbconvert_exporter": "python",
   "pygments_lexer": "ipython3",
   "version": "3.11.7"
  },
  "widgets": {
   "application/vnd.jupyter.widget-state+json": {
    "state": {},
    "version_major": 2,
    "version_minor": 0
   }
  }
 },
 "nbformat": 4,
 "nbformat_minor": 4
}
